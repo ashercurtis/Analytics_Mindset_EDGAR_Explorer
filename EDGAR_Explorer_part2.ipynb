{
 "cells": [
  {
   "cell_type": "markdown",
   "metadata": {},
   "source": [
    "# Analytics Mindset EDGAR Explorer \n",
    "\n",
    "This notebook contains the solution to Part 2 of the EDGAR explorer cases using Python. This solution will provide an example using Tesla, which has the CIK # 1318605. \n",
    "\n",
    "Note that CIK numbers are 10-digits long. If your company's CIK is less than 10-digits, then add leading zeros to get to 10-digits. In the example below, Tesla's CIK is entered as 0001318605, which is 10-digits long. \n",
    "\n",
    "In the code below where the variable headers is defined:\n",
    "headers = {'User-Agent' : 'your university  youremail@university.edu'}\n",
    "\n",
    "You need to change 'your university youremail@university.edu' to the name of your University and your University email."
   ]
  },
  {
   "cell_type": "code",
   "execution_count": 1,
   "metadata": {},
   "outputs": [],
   "source": [
    "import json\n",
    "import requests\n",
    "import pandas as pd\n",
    "\n",
    "\n",
    "cik = \"0001318605\"\n",
    "cik10 = cik{:>010s}.format(cik)\n",
    "url = \"https://data.sec.gov/submissions/CIK\" + cik + \".json\"\n",
    "headers = {'User-Agent' : 'your university  youremail@university.edu'}\n",
    "response = requests.get(url, headers=headers)\n",
    "data=response.json()\n",
    "\n"
   ]
  },
  {
   "cell_type": "markdown",
   "metadata": {},
   "source": [
    "#### Confirm that the JSON object returned is a dictionary:\n",
    "The python syntax to find the format of the data object is type(Name of data object), we are expecting the output to be 'dict' for a dictionary structure. Dictionaries are a data object which stores key-value pairs. The values can include other data objects, and in this case we will see it include strings, dictionaries, and lists. "
   ]
  },
  {
   "cell_type": "code",
   "execution_count": 2,
   "metadata": {},
   "outputs": [
    {
     "data": {
      "text/plain": [
       "dict"
      ]
     },
     "execution_count": 2,
     "metadata": {},
     "output_type": "execute_result"
    }
   ],
   "source": [
    "type(data)"
   ]
  },
  {
   "cell_type": "markdown",
   "metadata": {},
   "source": [
    "#### Identify the keys associated with the top-level dictionary:"
   ]
  },
  {
   "cell_type": "code",
   "execution_count": 3,
   "metadata": {},
   "outputs": [
    {
     "data": {
      "text/plain": [
       "dict_keys(['cik', 'entityType', 'sic', 'sicDescription', 'ownerOrg', 'insiderTransactionForOwnerExists', 'insiderTransactionForIssuerExists', 'name', 'tickers', 'exchanges', 'ein', 'description', 'website', 'investorWebsite', 'category', 'fiscalYearEnd', 'stateOfIncorporation', 'stateOfIncorporationDescription', 'addresses', 'phone', 'flags', 'formerNames', 'filings'])"
      ]
     },
     "execution_count": 3,
     "metadata": {},
     "output_type": "execute_result"
    }
   ],
   "source": [
    "data.keys()"
   ]
  },
  {
   "cell_type": "markdown",
   "metadata": {},
   "source": [
    "#### Confirm the company's CIK and Name (note that the CIK will drop the leading zeros):"
   ]
  },
  {
   "cell_type": "code",
   "execution_count": 4,
   "metadata": {},
   "outputs": [
    {
     "data": {
      "text/plain": [
       "'1318605'"
      ]
     },
     "execution_count": 4,
     "metadata": {},
     "output_type": "execute_result"
    }
   ],
   "source": [
    "data['cik']"
   ]
  },
  {
   "cell_type": "code",
   "execution_count": 5,
   "metadata": {},
   "outputs": [
    {
     "data": {
      "text/plain": [
       "'Tesla, Inc.'"
      ]
     },
     "execution_count": 5,
     "metadata": {},
     "output_type": "execute_result"
    }
   ],
   "source": [
    "data['name']"
   ]
  },
  {
   "cell_type": "markdown",
   "metadata": {},
   "source": [
    "#### Identify the data type for each of the values associated with these keys:"
   ]
  },
  {
   "cell_type": "code",
   "execution_count": 6,
   "metadata": {},
   "outputs": [
    {
     "name": "stdout",
     "output_type": "stream",
     "text": [
      "cik <class 'dict_items'>\n",
      "entityType <class 'dict_items'>\n",
      "sic <class 'dict_items'>\n",
      "sicDescription <class 'dict_items'>\n",
      "ownerOrg <class 'dict_items'>\n",
      "insiderTransactionForOwnerExists <class 'dict_items'>\n",
      "insiderTransactionForIssuerExists <class 'dict_items'>\n",
      "name <class 'dict_items'>\n",
      "tickers <class 'dict_items'>\n",
      "exchanges <class 'dict_items'>\n",
      "ein <class 'dict_items'>\n",
      "description <class 'dict_items'>\n",
      "website <class 'dict_items'>\n",
      "investorWebsite <class 'dict_items'>\n",
      "category <class 'dict_items'>\n",
      "fiscalYearEnd <class 'dict_items'>\n",
      "stateOfIncorporation <class 'dict_items'>\n",
      "stateOfIncorporationDescription <class 'dict_items'>\n",
      "addresses <class 'dict_items'>\n",
      "phone <class 'dict_items'>\n",
      "flags <class 'dict_items'>\n",
      "formerNames <class 'dict_items'>\n",
      "filings <class 'dict_items'>\n"
     ]
    }
   ],
   "source": [
    "for k,v in data.items():\n",
    "    dt=type(data.items())\n",
    "    print (k,dt)"
   ]
  },
  {
   "cell_type": "markdown",
   "metadata": {},
   "source": [
    "#### Identify where the data relating to the type of forms filed by the entity are in the data object\n",
    "\n",
    "As a hint: it is a list nested within several dictionaries. Note that in the prior answer, the final dictionary is called \"filings <class 'dict_items'>\" this is likely where the forms data is located as this will give information about the filings whereas the prior dictionaries tend to relate to entity-level facts like the company's cik, name and ticker symbol for example.\n",
    "\n",
    "Start by saving the filings dictionary into a new data frame and rerunning the loop to identify dictionary keys:"
   ]
  },
  {
   "cell_type": "code",
   "execution_count": 7,
   "metadata": {},
   "outputs": [
    {
     "name": "stdout",
     "output_type": "stream",
     "text": [
      "recent <class 'dict_items'>\n",
      "files <class 'dict_items'>\n"
     ]
    }
   ],
   "source": [
    "data2 = data['filings']\n",
    "for k,v in data2.items():\n",
    "    dt=type(data2.items())\n",
    "    print (k,dt)"
   ]
  },
  {
   "cell_type": "markdown",
   "metadata": {},
   "source": [
    "This is an example of a nested JSON data structure as referenced in the case. Note that python syntax allows a dictionary within a dictionary to be accessed by adding that disctionary to the end of the previous dictionary. For example, suppose we wanted to access the data in dictionary2 which is nested within dictionary1, we can use the following syntax: ['dictionary1']['dictionary2']. Next take a look at the data within the dictionary: files <class 'dict_items'>"
   ]
  },
  {
   "cell_type": "code",
   "execution_count": 8,
   "metadata": {},
   "outputs": [
    {
     "data": {
      "text/plain": [
       "list"
      ]
     },
     "execution_count": 8,
     "metadata": {},
     "output_type": "execute_result"
    }
   ],
   "source": [
    "type(data['filings']['files'])"
   ]
  },
  {
   "cell_type": "markdown",
   "metadata": {},
   "source": [
    "The data is stored as a list. This means that there is not another nested dictionary in this part of the file. Printing the file to the log will allow us to see what the list contains."
   ]
  },
  {
   "cell_type": "code",
   "execution_count": 9,
   "metadata": {},
   "outputs": [
    {
     "data": {
      "text/plain": [
       "[{'name': 'CIK0001318605-submissions-001.json',\n",
       "  'filingCount': 541,\n",
       "  'filingFrom': '2005-02-17',\n",
       "  'filingTo': '2016-09-06'}]"
      ]
     },
     "execution_count": 9,
     "metadata": {},
     "output_type": "execute_result"
    }
   ],
   "source": [
    "data['filings']['files']"
   ]
  },
  {
   "cell_type": "markdown",
   "metadata": {},
   "source": [
    "The print out highlights that this information is technical information regarding the number of filings summarized in this JSON document and any other associated files for the entity's filings (if they have more than 2000 filings they will have multiple entries in the list). This can be confirmed with the field 'filingCount'). This suggests that the forms data is within the field: recent <class 'dict_items'>\n",
    "\n",
    "Repeating above:"
   ]
  },
  {
   "cell_type": "code",
   "execution_count": 10,
   "metadata": {},
   "outputs": [
    {
     "data": {
      "text/plain": [
       "dict"
      ]
     },
     "execution_count": 10,
     "metadata": {},
     "output_type": "execute_result"
    }
   ],
   "source": [
    "type(data['filings']['recent'])"
   ]
  },
  {
   "cell_type": "markdown",
   "metadata": {},
   "source": [
    "The above code highlights that the field recent (nested within filings) is a dictionary. Saving the dictionary 'recent' into a new dataframe called data2 and then running the loop to understand which fields are nested within the recent dictionary can be done by repeating the code above:   "
   ]
  },
  {
   "cell_type": "code",
   "execution_count": 11,
   "metadata": {},
   "outputs": [
    {
     "name": "stdout",
     "output_type": "stream",
     "text": [
      "accessionNumber <class 'dict_items'>\n",
      "filingDate <class 'dict_items'>\n",
      "reportDate <class 'dict_items'>\n",
      "acceptanceDateTime <class 'dict_items'>\n",
      "act <class 'dict_items'>\n",
      "form <class 'dict_items'>\n",
      "fileNumber <class 'dict_items'>\n",
      "filmNumber <class 'dict_items'>\n",
      "items <class 'dict_items'>\n",
      "core_type <class 'dict_items'>\n",
      "size <class 'dict_items'>\n",
      "isXBRL <class 'dict_items'>\n",
      "isInlineXBRL <class 'dict_items'>\n",
      "primaryDocument <class 'dict_items'>\n",
      "primaryDocDescription <class 'dict_items'>\n"
     ]
    }
   ],
   "source": [
    "data2 = data['filings']['recent']\n",
    "for k,v in data2.items():\n",
    "    dt=type(data2.items())\n",
    "    print (k,dt)"
   ]
  },
  {
   "cell_type": "markdown",
   "metadata": {},
   "source": [
    "We have now found the field 'form' which contains all of the forms filed by the company. The structure of the dictionary 'recent' is likely a dictionary of lists, as each of the fields above, such as accessionNumber, filingDate, form etc, are expected to contain information about multiple filings made by the entity. As we are interested in the field form, we will examine the data type of form, rembering that it is nested within recent which is nested within filings, similar to earlier we use the python syntax:"
   ]
  },
  {
   "cell_type": "code",
   "execution_count": 12,
   "metadata": {},
   "outputs": [
    {
     "data": {
      "text/plain": [
       "list"
      ]
     },
     "execution_count": 12,
     "metadata": {},
     "output_type": "execute_result"
    }
   ],
   "source": [
    "type(data['filings']['recent']['form'])"
   ]
  },
  {
   "cell_type": "markdown",
   "metadata": {},
   "source": [
    "#### Save the list of forms filed as a pandas dataframe \n",
    "We will call it data3:"
   ]
  },
  {
   "cell_type": "code",
   "execution_count": 30,
   "metadata": {},
   "outputs": [],
   "source": [
    "alldata = pd.DataFrame(data['filings']['recent'])\n",
    "data3=pd.DataFrame(data['filings']['recent']['form'])\n",
    "all10ks = alldata[alldata['form'] == '10-K']"
   ]
  },
  {
   "cell_type": "markdown",
   "metadata": {},
   "source": [
    "print data3"
   ]
  },
  {
   "cell_type": "code",
   "execution_count": 31,
   "metadata": {},
   "outputs": [
    {
     "name": "stdout",
     "output_type": "stream",
     "text": [
      "          accessionNumber  filingDate  reportDate        acceptanceDateTime  \\\n",
      "82   0001628280-24-002390  2024-01-29  2023-12-31  2024-01-26T21:00:20.000Z   \n",
      "183  0000950170-23-001409  2023-01-31  2022-12-31  2023-01-30T21:29:15.000Z   \n",
      "283  0000950170-22-000796  2022-02-07  2021-12-31  2022-02-04T20:11:27.000Z   \n",
      "415  0001564590-21-004599  2021-02-08  2020-12-31  2021-02-08T07:27:23.000Z   \n",
      "553  0001564590-20-004475  2020-02-13  2019-12-31  2020-02-13T07:12:18.000Z   \n",
      "706  0001564590-19-003165  2019-02-19  2018-12-31  2019-02-19T06:10:16.000Z   \n",
      "813  0001564590-18-002956  2018-02-23  2017-12-31  2018-02-23T06:07:43.000Z   \n",
      "919  0001564590-17-003118  2017-03-01  2016-12-31  2017-03-01T16:54:21.000Z   \n",
      "\n",
      "    act  form fileNumber filmNumber items core_type      size  isXBRL  \\\n",
      "82   34  10-K  001-34756   24569853            XBRL  15527801       1   \n",
      "183  34  10-K  001-34756   23570030            XBRL  31445171       1   \n",
      "283  34  10-K  001-34756   22595227            XBRL  29316024       1   \n",
      "415  34  10-K  001-34756   21598537            XBRL  32860345       1   \n",
      "553  34  10-K  001-34756   20606921            XBRL  29961626       1   \n",
      "706  34  10-K  001-34756   19613254            10-K  30826751       1   \n",
      "813  34  10-K  001-34756   18634585            10-K  25498533       1   \n",
      "919  34  10-K  001-34756   17655025            10-K  26888750       1   \n",
      "\n",
      "     isInlineXBRL        primaryDocument primaryDocDescription  \n",
      "82              1      tsla-20231231.htm                  10-K  \n",
      "183             1      tsla-20221231.htm                  10-K  \n",
      "283             1      tsla-20211231.htm                  10-K  \n",
      "415             1  tsla-10k_20201231.htm                  10-K  \n",
      "553             1  tsla-10k_20191231.htm                  10-K  \n",
      "706             0  tsla-10k_20181231.htm                  10-K  \n",
      "813             0  tsla-10k_20171231.htm                  10-K  \n",
      "919             0  tsla-10k_20161231.htm                  10-K  \n"
     ]
    }
   ],
   "source": [
    "print(all10ks)"
   ]
  },
  {
   "cell_type": "markdown",
   "metadata": {},
   "source": [
    "#### Identify the most recently filed form and the dates and timestamps associated with that form.\n",
    "\n",
    "\n",
    "\n",
    "Identify the number of unique forms filed by the entity. Note that the API returns forms in chronological order, but we can check this by looking at the field 'filingDate' which contains the date for each filing in the 'recent' dictionary, note that 'filingDate' is a list. To get the first item from a list, you can use the python syntax [0] and then each subsequent filing date will be ordered sequentially, i.e., the second filing is [1] etc. To get a range of filing dates from the list, we can use the python syntax [0:4] to recover the first five filing dates (the syntax can be modified to any range). Using that logic, to recover the first ten filing dates:    \n",
    "\n"
   ]
  },
  {
   "cell_type": "code",
   "execution_count": 14,
   "metadata": {},
   "outputs": [
    {
     "data": {
      "text/plain": [
       "['2024-09-25',\n",
       " '2024-09-23',\n",
       " '2024-09-09',\n",
       " '2024-07-29',\n",
       " '2024-07-25',\n",
       " '2024-07-24',\n",
       " '2024-07-23',\n",
       " '2024-07-02',\n",
       " '2024-06-14']"
      ]
     },
     "execution_count": 14,
     "metadata": {},
     "output_type": "execute_result"
    }
   ],
   "source": [
    "data['filings']['recent']['filingDate'][0:9]"
   ]
  },
  {
   "cell_type": "markdown",
   "metadata": {},
   "source": [
    "In most cases, ten filings should highlight that the filings are ordered in chronological order, with the most recent filing first. To answer our question, we can identify the most recently filed form and the dates and timestamps associated with that form, as the data in space [0] for all of these fields. All of these fields are stored in the dataframe data2. So we can use the syntax data2['fieldName'][0] to recover the requested information:    "
   ]
  },
  {
   "cell_type": "code",
   "execution_count": 15,
   "metadata": {},
   "outputs": [
    {
     "data": {
      "text/plain": [
       "'4'"
      ]
     },
     "execution_count": 15,
     "metadata": {},
     "output_type": "execute_result"
    }
   ],
   "source": [
    "data2['form'][0]"
   ]
  },
  {
   "cell_type": "code",
   "execution_count": 16,
   "metadata": {},
   "outputs": [
    {
     "data": {
      "text/plain": [
       "'2024-09-25'"
      ]
     },
     "execution_count": 16,
     "metadata": {},
     "output_type": "execute_result"
    }
   ],
   "source": [
    "data2['filingDate'][0]"
   ]
  },
  {
   "cell_type": "code",
   "execution_count": 17,
   "metadata": {},
   "outputs": [
    {
     "data": {
      "text/plain": [
       "'2024-09-25T19:48:42.000Z'"
      ]
     },
     "execution_count": 17,
     "metadata": {},
     "output_type": "execute_result"
    }
   ],
   "source": [
    "data2['acceptanceDateTime'][0]"
   ]
  },
  {
   "cell_type": "markdown",
   "metadata": {},
   "source": [
    "### Using the list of forms filed by the entity (which you have saved as a pandas dataframe), use Python syntax to:\n",
    "#### Identify the number of unique forms filed by the entity.\n",
    "Recall that we saved the field 'form' as a dataframe named data3 above. We will reference data3 to answer the two questions in this section. "
   ]
  },
  {
   "cell_type": "code",
   "execution_count": 25,
   "metadata": {},
   "outputs": [
    {
     "name": "stderr",
     "output_type": "stream",
     "text": [
      "C:\\Users\\abcurtis\\AppData\\Local\\Temp\\ipykernel_14468\\4000224644.py:1: FutureWarning: unique with argument that is not not a Series, Index, ExtensionArray, or np.ndarray is deprecated and will raise in a future version.\n",
      "  uniqueFilings=pd.unique(data3)\n"
     ]
    },
    {
     "ename": "ValueError",
     "evalue": "could not broadcast input array from shape (1001,1) into shape (1001,)",
     "output_type": "error",
     "traceback": [
      "\u001b[1;31m---------------------------------------------------------------------------\u001b[0m",
      "\u001b[1;31mValueError\u001b[0m                                Traceback (most recent call last)",
      "Cell \u001b[1;32mIn[25], line 1\u001b[0m\n\u001b[1;32m----> 1\u001b[0m uniqueFilings\u001b[38;5;241m=\u001b[39m\u001b[43mpd\u001b[49m\u001b[38;5;241;43m.\u001b[39;49m\u001b[43munique\u001b[49m\u001b[43m(\u001b[49m\u001b[43mdata3\u001b[49m\u001b[43m)\u001b[49m\n\u001b[0;32m      2\u001b[0m \u001b[38;5;28mprint\u001b[39m(uniqueFilings)\n",
      "File \u001b[1;32mc:\\Users\\abcurtis\\AppData\\Local\\Programs\\Python\\Python312\\Lib\\site-packages\\pandas\\core\\algorithms.py:401\u001b[0m, in \u001b[0;36munique\u001b[1;34m(values)\u001b[0m\n\u001b[0;32m    307\u001b[0m \u001b[38;5;28;01mdef\u001b[39;00m \u001b[38;5;21munique\u001b[39m(values):\n\u001b[0;32m    308\u001b[0m \u001b[38;5;250m    \u001b[39m\u001b[38;5;124;03m\"\"\"\u001b[39;00m\n\u001b[0;32m    309\u001b[0m \u001b[38;5;124;03m    Return unique values based on a hash table.\u001b[39;00m\n\u001b[0;32m    310\u001b[0m \n\u001b[1;32m   (...)\u001b[0m\n\u001b[0;32m    399\u001b[0m \u001b[38;5;124;03m    array([('a', 'b'), ('b', 'a'), ('a', 'c')], dtype=object)\u001b[39;00m\n\u001b[0;32m    400\u001b[0m \u001b[38;5;124;03m    \"\"\"\u001b[39;00m\n\u001b[1;32m--> 401\u001b[0m     \u001b[38;5;28;01mreturn\u001b[39;00m \u001b[43munique_with_mask\u001b[49m\u001b[43m(\u001b[49m\u001b[43mvalues\u001b[49m\u001b[43m)\u001b[49m\n",
      "File \u001b[1;32mc:\\Users\\abcurtis\\AppData\\Local\\Programs\\Python\\Python312\\Lib\\site-packages\\pandas\\core\\algorithms.py:429\u001b[0m, in \u001b[0;36munique_with_mask\u001b[1;34m(values, mask)\u001b[0m\n\u001b[0;32m    427\u001b[0m \u001b[38;5;28;01mdef\u001b[39;00m \u001b[38;5;21munique_with_mask\u001b[39m(values, mask: npt\u001b[38;5;241m.\u001b[39mNDArray[np\u001b[38;5;241m.\u001b[39mbool_] \u001b[38;5;241m|\u001b[39m \u001b[38;5;28;01mNone\u001b[39;00m \u001b[38;5;241m=\u001b[39m \u001b[38;5;28;01mNone\u001b[39;00m):\n\u001b[0;32m    428\u001b[0m \u001b[38;5;250m    \u001b[39m\u001b[38;5;124;03m\"\"\"See algorithms.unique for docs. Takes a mask for masked arrays.\"\"\"\u001b[39;00m\n\u001b[1;32m--> 429\u001b[0m     values \u001b[38;5;241m=\u001b[39m \u001b[43m_ensure_arraylike\u001b[49m\u001b[43m(\u001b[49m\u001b[43mvalues\u001b[49m\u001b[43m,\u001b[49m\u001b[43m \u001b[49m\u001b[43mfunc_name\u001b[49m\u001b[38;5;241;43m=\u001b[39;49m\u001b[38;5;124;43m\"\u001b[39;49m\u001b[38;5;124;43munique\u001b[39;49m\u001b[38;5;124;43m\"\u001b[39;49m\u001b[43m)\u001b[49m\n\u001b[0;32m    431\u001b[0m     \u001b[38;5;28;01mif\u001b[39;00m \u001b[38;5;28misinstance\u001b[39m(values\u001b[38;5;241m.\u001b[39mdtype, ExtensionDtype):\n\u001b[0;32m    432\u001b[0m         \u001b[38;5;66;03m# Dispatch to extension dtype's unique.\u001b[39;00m\n\u001b[0;32m    433\u001b[0m         \u001b[38;5;28;01mreturn\u001b[39;00m values\u001b[38;5;241m.\u001b[39munique()\n",
      "File \u001b[1;32mc:\\Users\\abcurtis\\AppData\\Local\\Programs\\Python\\Python312\\Lib\\site-packages\\pandas\\core\\algorithms.py:238\u001b[0m, in \u001b[0;36m_ensure_arraylike\u001b[1;34m(values, func_name)\u001b[0m\n\u001b[0;32m    236\u001b[0m     \u001b[38;5;28;01mif\u001b[39;00m \u001b[38;5;28misinstance\u001b[39m(values, \u001b[38;5;28mtuple\u001b[39m):\n\u001b[0;32m    237\u001b[0m         values \u001b[38;5;241m=\u001b[39m \u001b[38;5;28mlist\u001b[39m(values)\n\u001b[1;32m--> 238\u001b[0m     values \u001b[38;5;241m=\u001b[39m \u001b[43mconstruct_1d_object_array_from_listlike\u001b[49m\u001b[43m(\u001b[49m\u001b[43mvalues\u001b[49m\u001b[43m)\u001b[49m\n\u001b[0;32m    239\u001b[0m \u001b[38;5;28;01melse\u001b[39;00m:\n\u001b[0;32m    240\u001b[0m     values \u001b[38;5;241m=\u001b[39m np\u001b[38;5;241m.\u001b[39masarray(values)\n",
      "File \u001b[1;32mc:\\Users\\abcurtis\\AppData\\Local\\Programs\\Python\\Python312\\Lib\\site-packages\\pandas\\core\\dtypes\\cast.py:1601\u001b[0m, in \u001b[0;36mconstruct_1d_object_array_from_listlike\u001b[1;34m(values)\u001b[0m\n\u001b[0;32m   1598\u001b[0m \u001b[38;5;66;03m# numpy will try to interpret nested lists as further dimensions, hence\u001b[39;00m\n\u001b[0;32m   1599\u001b[0m \u001b[38;5;66;03m# making a 1D array that contains list-likes is a bit tricky:\u001b[39;00m\n\u001b[0;32m   1600\u001b[0m result \u001b[38;5;241m=\u001b[39m np\u001b[38;5;241m.\u001b[39mempty(\u001b[38;5;28mlen\u001b[39m(values), dtype\u001b[38;5;241m=\u001b[39m\u001b[38;5;124m\"\u001b[39m\u001b[38;5;124mobject\u001b[39m\u001b[38;5;124m\"\u001b[39m)\n\u001b[1;32m-> 1601\u001b[0m \u001b[43mresult\u001b[49m\u001b[43m[\u001b[49m\u001b[43m:\u001b[49m\u001b[43m]\u001b[49m \u001b[38;5;241m=\u001b[39m values\n\u001b[0;32m   1602\u001b[0m \u001b[38;5;28;01mreturn\u001b[39;00m result\n",
      "\u001b[1;31mValueError\u001b[0m: could not broadcast input array from shape (1001,1) into shape (1001,)"
     ]
    }
   ],
   "source": [
    "uniqueFilings=pd.unique(data3)\n",
    "print(uniqueFilings)"
   ]
  },
  {
   "cell_type": "markdown",
   "metadata": {},
   "source": [
    "We could count the output above to see how many unique filings are in our file. It is also possible to use the python syntax len() to count the number for us. This will remove any possible human errors in counting and would be especially helpful if there are hundreds of unique filings."
   ]
  },
  {
   "cell_type": "code",
   "execution_count": null,
   "metadata": {},
   "outputs": [],
   "source": [
    "nUnique = len(uniqueFilings)\n",
    "print(nUnique)"
   ]
  },
  {
   "cell_type": "markdown",
   "metadata": {},
   "source": [
    "#### Calculate the number of times each form was filed based in this dataset and identify the most popular filing for your company.\n",
    "We can now go ahead and count the filings using the groupby and count commands. In most cases the most common filing is the form 4 filing. What is it for your company?"
   ]
  },
  {
   "cell_type": "code",
   "execution_count": 18,
   "metadata": {},
   "outputs": [
    {
     "data": {
      "text/plain": [
       "0\n",
       "10-K                  8\n",
       "10-K/A                3\n",
       "10-Q                 24\n",
       "144                  29\n",
       "3                    15\n",
       "4                   471\n",
       "4/A                   3\n",
       "424B3                 2\n",
       "424B5                16\n",
       "425                  18\n",
       "5                     2\n",
       "5/A                   1\n",
       "8-K                 145\n",
       "8-K/A                 2\n",
       "ARS                   2\n",
       "CORRESP              22\n",
       "CT ORDER             20\n",
       "D                     1\n",
       "DEF 14A               9\n",
       "DEFA14A              62\n",
       "EFFECT                2\n",
       "FWP                   2\n",
       "NO ACT                1\n",
       "POS AM                2\n",
       "PRE 14A               5\n",
       "PX14A6G              28\n",
       "PX14A6N               1\n",
       "S-3ASR                3\n",
       "S-4                   1\n",
       "S-4/A                10\n",
       "S-8                   3\n",
       "S-8 POS               7\n",
       "SC 13G                7\n",
       "SC 13G/A             36\n",
       "SC TO-T               1\n",
       "SC TO-T/A             8\n",
       "SD                    8\n",
       "SEC STAFF LETTER      2\n",
       "UPLOAD               19\n",
       "Name: 0, dtype: int64"
      ]
     },
     "execution_count": 18,
     "metadata": {},
     "output_type": "execute_result"
    }
   ],
   "source": [
    "data3.groupby(data3[0])[0].count()"
   ]
  },
  {
   "cell_type": "markdown",
   "metadata": {},
   "source": [
    "Filter out the 10-Ks"
   ]
  },
  {
   "cell_type": "code",
   "execution_count": 24,
   "metadata": {},
   "outputs": [
    {
     "name": "stdout",
     "output_type": "stream",
     "text": [
      "     form\n",
      "82   10-K\n",
      "183  10-K\n",
      "283  10-K\n",
      "415  10-K\n",
      "553  10-K\n",
      "706  10-K\n",
      "813  10-K\n",
      "919  10-K\n"
     ]
    }
   ],
   "source": [
    "# Step 1: Convert the list into a DataFrame\n",
    "data3 = pd.DataFrame(data['filings']['recent']['form'], columns=['form'])\n",
    "\n",
    "# Step 2: Filter out rows where form is '10-K'\n",
    "filtered_data3 = data3[data3['form'] == '10-K']\n",
    "\n",
    "# Display the filtered dataframe (will be empty if no '10-K' form exists)\n",
    "print(filtered_data3)"
   ]
  }
 ],
 "metadata": {
  "interpreter": {
   "hash": "ea3b71e474ec094225eeeda5a0918c29eb3046c0d4ebd96d18322757149d0d36"
  },
  "kernelspec": {
   "display_name": "Python 3.9.7",
   "language": "python",
   "name": "python3"
  },
  "language_info": {
   "codemirror_mode": {
    "name": "ipython",
    "version": 3
   },
   "file_extension": ".py",
   "mimetype": "text/x-python",
   "name": "python",
   "nbconvert_exporter": "python",
   "pygments_lexer": "ipython3",
   "version": "3.12.3"
  },
  "orig_nbformat": 4
 },
 "nbformat": 4,
 "nbformat_minor": 2
}
