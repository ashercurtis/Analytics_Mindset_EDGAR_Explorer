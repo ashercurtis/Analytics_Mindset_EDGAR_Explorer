{
 "cells": [
  {
   "cell_type": "markdown",
   "metadata": {},
   "source": [
    "# Analytics Mindset EDGAR Explorer \n",
    "\n",
    "This notebook contains the solution to Part 3 of the EDGAR explorer cases using Python. This solution will provide an example using Tesla, which has the CIK # 1318605.  \n",
    "\n",
    "In the code below where the variable headers is defined:\n",
    "headers = {'User-Agent' : 'your university  youremail@university.edu'}\n",
    "\n",
    "You need to change 'your university youremail@university.edu' to the name of your University and your University email."
   ]
  },
  {
   "cell_type": "code",
   "execution_count": null,
   "metadata": {},
   "outputs": [],
   "source": [
    "import requests\n",
    "import json\n",
    "import pandas as pd\n",
    "from collections import defaultdict\n",
    "\n",
    "\n",
    "def get_facts(cik):\n",
    "    url = 'https://data.sec.gov/api/xbrl/companyfacts/CIK{:>010s}.json'.format(cik)\n",
    "    eaders = {'User-Agent' : 'your university  youremail@university.edu'}\n",
    "\n",
    "    res = requests.get(url=url,headers=headers)\n",
    "    j = json.loads(res.text)\n",
    "\n",
    "    # use this to look at the structure of a single record\n",
    "    # open('out/tsla.json', 'w').write(json.dumps(result,indent=2))\n",
    "\n",
    "    o = defaultdict(dict)\n",
    "    def checker(j,x):\n",
    "        if x in j:\n",
    "            return j[x]\n",
    "        else:\n",
    "            return None\n",
    "\n",
    "\n",
    "    for acct in j['facts']['us-gaap']:\n",
    "        label = j['facts']['us-gaap'][acct]['label']   \n",
    "        for unit in j['facts']['us-gaap'][acct]['units']:\n",
    "            for rec in j['facts']['us-gaap'][acct]['units'][unit]:\n",
    "                #get most recent facts, omit instantaneous\n",
    "                if 'frame' in rec and 'start' in rec:\n",
    "                    if rec['frame'][-1] == 'I':\n",
    "                        continue\n",
    "                    o[rec['frame']][f'{acct}_{unit}'] = rec['val']\n",
    "                    o[rec['frame']]['start'] = checker(rec,'start')\n",
    "                    o[rec['frame']]['end'] = rec['end']\n",
    "                    o[rec['frame']]['fy'] = rec['fy']\n",
    "                    o[rec['frame']]['fp'] = rec['fp']\n",
    "                    o[rec['frame']]['form'] = rec['form']\n",
    "                    o[rec['frame']]['filed'] = rec['filed']\n",
    "                \n",
    "    df = pd.DataFrame.from_dict(o,orient='index')\n",
    "    df.index.names = ['frame']\n",
    "    df.reset_index(inplace=True)\n",
    "    df.insert(loc=1,column='cik',value=cik)\n",
    "    return df\n",
    "\n",
    "# use a list of ciks or parse list from file\n",
    "ciks = ['1318605','320193']\n",
    "\n",
    "l = []\n",
    "\n",
    "for k,i in enumerate(ciks):\n",
    "    l.append(get_facts(i))\n",
    "\n",
    "\n",
    "\n",
    "# delete \"join='inner'\" for outer join concatenation (default), which gives all xbrl accounts listed\n",
    "df = pd.concat(l,join='inner',ignore_index=True)\n",
    "df.sort_values(by=['cik','frame'],inplace=True)\n",
    "df.to_excel('out/appl_tsla.xlsx',index=False)\n"
   ]
  }
 ],
 "metadata": {
  "interpreter": {
   "hash": "3a26c27a14143fb6272203bc00e3b69cd181d6e268778957289e7daccbccee6d"
  },
  "kernelspec": {
   "display_name": "Python 3.6.4 32-bit",
   "language": "python",
   "name": "python3"
  },
  "language_info": {
   "name": "python",
   "version": "3.6.4"
  },
  "orig_nbformat": 4
 },
 "nbformat": 4,
 "nbformat_minor": 2
}
